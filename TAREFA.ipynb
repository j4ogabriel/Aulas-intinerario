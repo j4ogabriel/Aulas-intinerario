{
  "nbformat": 4,
  "nbformat_minor": 0,
  "metadata": {
    "colab": {
      "provenance": [],
      "authorship_tag": "ABX9TyM50FOzsxs6VgPaECx81pZN",
      "include_colab_link": true
    },
    "kernelspec": {
      "name": "python3",
      "display_name": "Python 3"
    },
    "language_info": {
      "name": "python"
    }
  },
  "cells": [
    {
      "cell_type": "markdown",
      "metadata": {
        "id": "view-in-github",
        "colab_type": "text"
      },
      "source": [
        "<a href=\"https://colab.research.google.com/github/j4ogabriel/Aulas-intinerario/blob/main/TAREFA.ipynb\" target=\"_parent\"><img src=\"https://colab.research.google.com/assets/colab-badge.svg\" alt=\"Open In Colab\"/></a>"
      ]
    },
    {
      "cell_type": "code",
      "execution_count": 16,
      "metadata": {
        "id": "D4kx1GDL0tsQ",
        "outputId": "55c537b0-ca3a-43f1-e7c3-52bfe87fceeb",
        "colab": {
          "base_uri": "https://localhost:8080/"
        }
      },
      "outputs": [
        {
          "output_type": "stream",
          "name": "stdout",
          "text": [
            "Insira um nome de usuário: jaodosfeijao\n",
            "Digite sua senha: jo290224\n",
            "Bem vindo(a)!\n",
            "Selecione a operação desejada: 4\n",
            "Selecione a conta desejada: 3\n",
            "Insira um número inteiro: 4\n",
            "Insira um número inteiro: 3\n",
            "12\n"
          ]
        }
      ],
      "source": [
        "usuario_padrao = \"jaodosfeijao\"\n",
        "senha_padrao = \"jo290224\"\n",
        "usuario = str(input(\"Insira um nome de usuário: \"))\n",
        "senha = str(input(\"Digite sua senha: \"))\n",
        "Operação = 1/2/3/4\n",
        "Cadastro_direto = 1\n",
        "Cadastro_de_prof = 2\n",
        "Cadastro_de_aluno = 3\n",
        "Calculadora = 4\n",
        "if usuario == usuario_padrao and senha == senha_padrao:\n",
        "  print(\"Bem vindo(a)!\")\n",
        "  Operação = int(input(\"Selecione a operação desejada: \"))\n",
        "  if Operação == 1:\n",
        "   print(\"Realize seu cadastro direto.\")\n",
        "   usuario_direto = str(input(\"Nome: \"))\n",
        "   senha_padrao = str(input(\"Senha: \"))\n",
        "   id_padrao = str(input(\"ID: \"))\n",
        "   print(\"Bem vindo, usuário\", usuario_direto, \"sua senha é\", senha_padrao, \"e seu ID é\", id_padrao)\n",
        "  if Operação == 2:\n",
        "      print(\"Realize seu cadastro como professor.\")\n",
        "      professor = str(input(\"Nome: \"))\n",
        "      materia = str(input(\"Matéria: \"))\n",
        "      id_prof = str(input(\"ID: \"))\n",
        "      print(\"Bem vindo, professor\", professor, \"de\", materia, \"seu id é\", id_prof)\n",
        "  if Operação == 3:\n",
        "      print(\"Realize seu cadastro como aluno.\")\n",
        "      materia_a = str(input(\"Matéria: \"))\n",
        "      senha_a = str(input(\"Senha: \"))\n",
        "      nome_a = str(input(\"Nome de Usuário: \"))\n",
        "      ano = str(input(\"Ano: \"))\n",
        "      print(\"Bem vindo, aluno(a)\", nome_a, \"do\", ano, \"sua matéria curricular é\", materia_a,\"e sua senha é\", senha_a)\n",
        "  if Operação == 4:\n",
        "       Conta = 1/2/3/4/5/6\n",
        "       Conta = int(input(\"Selecione a conta desejada: \"))\n",
        "       var1 = int(input(\"Insira um número inteiro: \"))\n",
        "       var2 = int(input(\"Insira um número inteiro: \"))\n",
        "       if Conta == 1:\n",
        "        print(var1 + var2)\n",
        "       if Conta == 2:\n",
        "        print(var1 - var2)\n",
        "       if Conta == 3:\n",
        "        print(var1 * var2)\n",
        "       if Conta == 4:\n",
        "        if var2 == 0 or var1 == 0:\n",
        "          print(\"Operação invalida\")\n",
        "        else:\n",
        "         print(var1 / var2)\n",
        "       if Conta == 5:\n",
        "        print(var1 ** var2)\n",
        "       if Conta == 6:\n",
        "        if var2 <= 0 or var1 <= 0:\n",
        "          print(\"Operação invalida\")\n",
        "        else:\n",
        "         print(var2 ** (1/var1))\n",
        "else:\n",
        "  print(\"Usuário ou senha invalidos\")"
      ]
    }
  ]
}