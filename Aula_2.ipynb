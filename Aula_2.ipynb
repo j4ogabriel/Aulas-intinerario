{
  "nbformat": 4,
  "nbformat_minor": 0,
  "metadata": {
    "colab": {
      "provenance": [],
      "authorship_tag": "ABX9TyOUEGyzTnnX8RogUEo+EfDK",
      "include_colab_link": true
    },
    "kernelspec": {
      "name": "python3",
      "display_name": "Python 3"
    },
    "language_info": {
      "name": "python"
    }
  },
  "cells": [
    {
      "cell_type": "markdown",
      "metadata": {
        "id": "view-in-github",
        "colab_type": "text"
      },
      "source": [
        "<a href=\"https://colab.research.google.com/github/j4ogabriel/Aulas-intinerario/blob/main/Aula_2.ipynb\" target=\"_parent\"><img src=\"https://colab.research.google.com/assets/colab-badge.svg\" alt=\"Open In Colab\"/></a>"
      ]
    },
    {
      "cell_type": "code",
      "execution_count": null,
      "metadata": {
        "id": "4RpjK0LyvmsE",
        "colab": {
          "base_uri": "https://localhost:8080/"
        },
        "outputId": "96a08227-cfc7-4dba-fc96-6b8a90870e41"
      },
      "outputs": [
        {
          "output_type": "stream",
          "name": "stdout",
          "text": [
            "Digite um inteiro6\n",
            "Digite outro inteiro9\n",
            "10077696\n"
          ]
        }
      ],
      "source": [
        "var1 = int(input(\"Digite um inteiro\"))\n",
        "var2 = int(input(\"Digite outro inteiro\"))\n",
        "\n",
        "exp = var1 ** var2\n",
        "\n",
        "print(exp)"
      ]
    },
    {
      "cell_type": "code",
      "source": [
        "var1 = int(input(\"Digite um inteiro\"))\n",
        "var2 = int(input(\"Digite outro inteiro\"))\n",
        "\n",
        "resto = var1 %  var2\n",
        "\n",
        "print(resto)"
      ],
      "metadata": {
        "colab": {
          "base_uri": "https://localhost:8080/"
        },
        "id": "GKU5gHApx9YJ",
        "outputId": "30b4bfaa-6be7-494e-d9a1-3f685874941e"
      },
      "execution_count": null,
      "outputs": [
        {
          "output_type": "stream",
          "name": "stdout",
          "text": [
            "Digite um inteiro9\n",
            "Digite outro inteiro2\n",
            "1\n"
          ]
        }
      ]
    },
    {
      "cell_type": "code",
      "source": [
        "a = 3\n",
        "b = 4\n",
        "c = a < b\n",
        "d = a > b\n",
        "e = a == b\n",
        "\n",
        "print(\"Valor de c: \",c)\n",
        "print(\"Valor de d:\", d)\n",
        "print(\"Valor de e:\", e)"
      ],
      "metadata": {
        "colab": {
          "base_uri": "https://localhost:8080/"
        },
        "id": "TDSfx8V5yaqd",
        "outputId": "72523af0-6a8d-4fb2-c282-fe343998e1bd"
      },
      "execution_count": null,
      "outputs": [
        {
          "output_type": "stream",
          "name": "stdout",
          "text": [
            "Valor de c:  True\n",
            "Valor de d: False\n",
            "Valor de e: False\n"
          ]
        }
      ]
    },
    {
      "cell_type": "code",
      "source": [
        "A = True\n",
        "B = False\n",
        "print(\"Valor de A and B\", A and B)"
      ],
      "metadata": {
        "colab": {
          "base_uri": "https://localhost:8080/"
        },
        "id": "HiYAepzIzfPY",
        "outputId": "91011a68-5a01-42f3-908b-39083072cfab"
      },
      "execution_count": null,
      "outputs": [
        {
          "output_type": "stream",
          "name": "stdout",
          "text": [
            "Valor de A and B False\n"
          ]
        }
      ]
    },
    {
      "cell_type": "code",
      "source": [
        "A = True\n",
        "B = False\n",
        "print(\"Valor de A or B\", A or B)"
      ],
      "metadata": {
        "colab": {
          "base_uri": "https://localhost:8080/"
        },
        "id": "VBhzSh6Kz0UG",
        "outputId": "9ed24556-d223-4661-9f48-3c814828b3a2"
      },
      "execution_count": null,
      "outputs": [
        {
          "output_type": "stream",
          "name": "stdout",
          "text": [
            "Valor de A or B True\n"
          ]
        }
      ]
    },
    {
      "cell_type": "code",
      "source": [
        "condicao = True\n",
        "if not condicao: #true\n",
        "  print(\"A condição é falsa\")\n",
        "else: #false\n",
        "  print(\"A condição é verdadeira\")"
      ],
      "metadata": {
        "colab": {
          "base_uri": "https://localhost:8080/"
        },
        "id": "O3ps4PpEz4cs",
        "outputId": "8030fc02-c6c6-44f5-ae4d-f85ee94e4509"
      },
      "execution_count": null,
      "outputs": [
        {
          "output_type": "stream",
          "name": "stdout",
          "text": [
            "A condição é falsa\n"
          ]
        }
      ]
    },
    {
      "cell_type": "code",
      "source": [
        "var1 = int(input(\"insira um numero inteiro: \"))\n",
        "if var1 >10 and var1 < 20:\n",
        "  print(\"true\")\n",
        "else:\n",
        "  print(\"false\")\n"
      ],
      "metadata": {
        "colab": {
          "base_uri": "https://localhost:8080/"
        },
        "id": "dCsplYhA0a7I",
        "outputId": "be53759b-e792-4e34-b0d3-2fb8d961aec6"
      },
      "execution_count": 25,
      "outputs": [
        {
          "output_type": "stream",
          "name": "stdout",
          "text": [
            "insira um numero inteiro: 20\n",
            "false\n"
          ]
        }
      ]
    },
    {
      "cell_type": "code",
      "source": [
        "var1 = int(input(\"Insira sua idade: \"))\n",
        "if var1 < 18:\n",
        "  print(\"Você não tem idade para assistir esse filme\")\n",
        "else:\n",
        "    print(\"Divirta-se!\")"
      ],
      "metadata": {
        "colab": {
          "base_uri": "https://localhost:8080/"
        },
        "id": "pi4m6G4k3ey0",
        "outputId": "e2d4fec6-160e-471a-8359-3e2385dc7e91"
      },
      "execution_count": 24,
      "outputs": [
        {
          "output_type": "stream",
          "name": "stdout",
          "text": [
            "Insira sua idade: 22\n",
            "Divirta-se!\n"
          ]
        }
      ]
    },
    {
      "cell_type": "code",
      "source": [
        "var1 = int(input(\"Digite um número: \"))\n",
        "if var1 > 0 and var1 % 2 != 0:\n",
        "  print(\"true\")\n",
        "else:\n",
        "    print(\"false\")"
      ],
      "metadata": {
        "id": "K4HNM-WZ4ls0",
        "colab": {
          "base_uri": "https://localhost:8080/"
        },
        "outputId": "2d2e2598-f512-4b2c-fd4b-6c5015886642"
      },
      "execution_count": 23,
      "outputs": [
        {
          "output_type": "stream",
          "name": "stdout",
          "text": [
            "Digite um número: 5\n",
            "true\n"
          ]
        }
      ]
    },
    {
      "cell_type": "code",
      "source": [
        "lado1 = int(input(\"Digite o valor do lado 1: \"))\n",
        "lado2 = int(input(\"Digite o valor do lado 2: \"))\n",
        "lado3 = int(input(\"Digite o valor do lado 3: \"))\n",
        "if lado1 == lado2 == lado3:\n",
        "  print(\"O triangulo é equilatero\")\n",
        "elif lado1 == lado2 != lado3 or lado1 != lado2 == lado3:\n",
        "  print(\"O triangulo é isóceles\")\n",
        "else:\n",
        "  print(\"O triangulo é escaleno\")\n"
      ],
      "metadata": {
        "colab": {
          "base_uri": "https://localhost:8080/"
        },
        "id": "McCX6qRO-zC_",
        "outputId": "b7ec04b2-0146-45d4-d22c-303a3be11a9e"
      },
      "execution_count": 22,
      "outputs": [
        {
          "output_type": "stream",
          "name": "stdout",
          "text": [
            "Digite o valor do lado 1: 3\n",
            "Digite o valor do lado 2: 4\n",
            "Digite o valor do lado 3: 5\n",
            "O triangulo é escaleno\n"
          ]
        }
      ]
    }
  ]
}