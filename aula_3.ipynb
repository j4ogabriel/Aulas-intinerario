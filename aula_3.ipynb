{
  "nbformat": 4,
  "nbformat_minor": 0,
  "metadata": {
    "colab": {
      "provenance": [],
      "authorship_tag": "ABX9TyPlyDbRRutMZmDqT8YcfumA",
      "include_colab_link": true
    },
    "kernelspec": {
      "name": "python3",
      "display_name": "Python 3"
    },
    "language_info": {
      "name": "python"
    }
  },
  "cells": [
    {
      "cell_type": "markdown",
      "metadata": {
        "id": "view-in-github",
        "colab_type": "text"
      },
      "source": [
        "<a href=\"https://colab.research.google.com/github/j4ogabriel/Aulas-intinerario/blob/main/aula_3.ipynb\" target=\"_parent\"><img src=\"https://colab.research.google.com/assets/colab-badge.svg\" alt=\"Open In Colab\"/></a>"
      ]
    },
    {
      "cell_type": "code",
      "execution_count": null,
      "metadata": {
        "id": "D4kx1GDL0tsQ"
      },
      "outputs": [],
      "source": [
        "usuario_padrao = \"jaodosfeijao\"\n",
        "senha_padrao = \"jo290224\"\n",
        "usuario = str(input(\"Insira um nome de usuário: \"))\n",
        "senha = str(input(\"Digite sua senha: \"))\n",
        "if usuario == usuario_padrao and senha == senha_padrao:\n",
        "  print(\"Bem vindo(a)!\")\n",
        "else:\n",
        "    print(\"Nome de usuário ou senha invalidos\")\n"
      ]
    }
  ]
}